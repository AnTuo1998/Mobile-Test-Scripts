{
 "cells": [
  {
   "cell_type": "code",
   "execution_count": 3,
   "metadata": {
    "collapsed": true
   },
   "outputs": [],
   "source": [
    "f = open('test_compare.txt', 'r')\n",
    "fo = open('close_source_runnable.txt', 'w+')\n",
    "for line in f:\n",
    "    eles = line.split(',')\n",
    "    if len(eles) > 1:\n",
    "        flag = int(eles[1])\n",
    "        if flag == 0 or flag == 1:\n",
    "            fo.write(eles[0] + ',' + eles[1])"
   ]
  },
  {
   "cell_type": "code",
   "execution_count": 25,
   "metadata": {
    "collapsed": true
   },
   "outputs": [],
   "source": [
    "dir = '/media/mike/新加卷/software/test_sample/standard_sample/selected/crash/'\n",
    "import os\n",
    "apks = os.listdir(dir)"
   ]
  },
  {
   "cell_type": "code",
   "execution_count": 21,
   "metadata": {
    "collapsed": true
   },
   "outputs": [],
   "source": [
    "fi = open('close_source_runnable.txt', 'r')\n",
    "monkey_runnable = []\n",
    "monkey_fail = []\n",
    "for line in fi:\n",
    "    eles = line.split(',')\n",
    "    if len(eles) > 1:\n",
    "        flag = int(eles[1])\n",
    "        if flag == 1:\n",
    "            monkey_runnable.append(eles[0])\n",
    "        else:\n",
    "            monkey_fail.append(eles[0])\n",
    "            \n",
    "fi.close()"
   ]
  },
  {
   "cell_type": "code",
   "execution_count": null,
   "metadata": {
    "collapsed": false
   },
   "outputs": [],
   "source": []
  },
  {
   "cell_type": "code",
   "execution_count": 28,
   "metadata": {
    "collapsed": false
   },
   "outputs": [],
   "source": [
    "for apk in apks:\n",
    "    if '.apk' not in apk:\n",
    "        continue\n",
    "    name = apk[:-4]\n",
    "    if name in monkey_fail:\n",
    "        os.system('mv ' + dir + apk +  ' ' + dir + '../wait/')\n",
    "        #print(apk)\n",
    "        pass\n",
    "    elif name in monkey_runnable:\n",
    "        #print(apk)\n",
    "        #monkey_runnable.remove(name)\n",
    "        pass\n",
    "    else:\n",
    "        #os.system('mv ' + dir + apk + ' ' + dir + 'crash/')\n",
    "        pass"
   ]
  },
  {
   "cell_type": "code",
   "execution_count": 12,
   "metadata": {
    "collapsed": false
   },
   "outputs": [
    {
     "data": {
      "text/plain": [
       "['yuku.mp3recorder.full', 'smskb.com', 'com.jiubang.bookv4']"
      ]
     },
     "execution_count": 12,
     "metadata": {},
     "output_type": "execute_result"
    }
   ],
   "source": [
    "monkey_runnable"
   ]
  },
  {
   "cell_type": "code",
   "execution_count": 2,
   "metadata": {
    "collapsed": false
   },
   "outputs": [
    {
     "data": {
      "text/plain": [
       "115"
      ]
     },
     "execution_count": 2,
     "metadata": {},
     "output_type": "execute_result"
    }
   ],
   "source": [
    "f = open('test_compare.txt', 'r')\n",
    "start = False\n",
    "droidbot_runnalbe = []\n",
    "for line in f:\n",
    "    if 'droidbot' in line:\n",
    "        start = True\n",
    "        \n",
    "    if start:\n",
    "        eles = line.split(',')\n",
    "        if len(eles) > 1:\n",
    "            if int(eles[1]) == 1:\n",
    "                droidbot_runnalbe.append(eles[0])\n",
    "f.close()\n",
    "len(droidbot_runnalbe)"
   ]
  },
  {
   "cell_type": "code",
   "execution_count": 26,
   "metadata": {
    "collapsed": false
   },
   "outputs": [
    {
     "name": "stdout",
     "output_type": "stream",
     "text": [
      "droidbot\n",
      "\n",
      "stoat\n",
      "\n",
      "sapienz\n",
      "\n"
     ]
    }
   ],
   "source": [
    "ops = open('close_source_runnable.txt', 'r')\n",
    "result = {}\n",
    "idx = 0\n",
    "for line in ops:\n",
    "    eles = line.split(',')\n",
    "    if len(eles) < 2 and 'monkey' not in eles[0]:\n",
    "        print(eles[0])\n",
    "        idx += 1\n",
    "    elif len(eles) >= 2 and eles[0].strip() != 'monkey':\n",
    "        if idx == 0:\n",
    "            result[eles[0]] = [eles[1].strip()]\n",
    "        elif result.get(eles[0]) != None and len(result[eles[0]]) < idx + 1:\n",
    "            result[eles[0]].append(eles[1].strip())\n",
    "ops.close()\n",
    "        "
   ]
  },
  {
   "cell_type": "code",
   "execution_count": null,
   "metadata": {
    "collapsed": false
   },
   "outputs": [],
   "source": []
  },
  {
   "cell_type": "code",
   "execution_count": 30,
   "metadata": {
    "collapsed": false
   },
   "outputs": [],
   "source": [
    "fo = open('close_source_sumpu.csv', 'w+')\n",
    "fo.write('app,monkey,droidbot,stoat,sapienz\\n')\n",
    "for key in result:\n",
    "    if len(result[key]) < 4:\n",
    "        continue\n",
    "    fo.write(key + ',')\n",
    "    for idx in range(len(result[key])):\n",
    "        if idx != len(result[key])-1:\n",
    "                     fo.write(result[key][idx] + ',')\n",
    "        else:\n",
    "                     fo.write(result[key][idx] + '\\n')\n",
    "fo.close()"
   ]
  },
  {
   "cell_type": "code",
   "execution_count": 15,
   "metadata": {
    "collapsed": false
   },
   "outputs": [],
   "source": [
    "#将91个商业app归纳到一个文件夹里，并进行筛选\n",
    "#增补32个商业app\n",
    "#增补30个备选\n",
    "import os\n",
    "tdir = '/media/mike/新加卷/software/test_sample/standard_sample/selected/'\n",
    "tapps = os.listdir(tdir)\n",
    "fs = open('./source/closed_selected_complement2.txt', 'r')\n",
    "sel_apps = []\n",
    "for line in fs:\n",
    "    ele = line.strip()\n",
    "    sel_apps.append(ele)\n",
    "    \n",
    "for app in tapps:\n",
    "    if '.apk' not in app:\n",
    "        continue\n",
    "    name = app[:-4]\n",
    "    if name in sel_apps:\n",
    "        os.system('cp ' + tdir + app + ' ' + tdir + 'compared/complement1')\n",
    "        \n",
    "    "
   ]
  },
  {
   "cell_type": "code",
   "execution_count": null,
   "metadata": {
    "collapsed": false
   },
   "outputs": [],
   "source": [
    "#对91个商业app进行筛选，生成一个txt文本，描述某个app是否适合用来对比测试\n",
    "#对增补32个商业app进行筛选\n",
    "finish = []\n",
    "#capps = os.listdir(tdir + 'compared')\n",
    "apkdir = tdir + 'compared/complement1'\n",
    "output = os.popen('ls ' + apkdir + ' -Sr').readlines()\n",
    "capps = [i.strip() for i in output]\n",
    "fstat = open('source/closed_source_status2.txt', 'w+')\n",
    "fstat.close()\n",
    "for app in capps:\n",
    "    fstat = open('source/closed_source_status2.txt', 'a+')\n",
    "    package = app[:-4]\n",
    "    os.system('adb install ' + tdir + 'compared/complement1/' + app)\n",
    "    status = input(package + ' : ')\n",
    "    os.system('adb uninstall ' + package)\n",
    "    finish.append(app)\n",
    "    fstat.write(package + '\\t' + status + '\\n')\n",
    "    fstat.close()"
   ]
  },
  {
   "cell_type": "code",
   "execution_count": 25,
   "metadata": {
    "collapsed": false
   },
   "outputs": [],
   "source": [
    "f = open('source/closed_source_status.txt', 'r')\n",
    "selected = []\n",
    "for line in f:\n",
    "    eles = line.split('\\t')\n",
    "    if 'Y' not in eles[1]:\n",
    "        os.system('rm ' + tdir + '/compared/' + eles[0] + '.apk')\n",
    "        #selected.append(eles[0])\n",
    "#len(selected)"
   ]
  },
  {
   "cell_type": "code",
   "execution_count": 29,
   "metadata": {
    "collapsed": true
   },
   "outputs": [],
   "source": [
    "f = open('selected_sumup.txt', 'w+')\n",
    "apks = [[], [], []]\n",
    "apks[0] = [i[:-4] for i in os.listdir(tdir + 'compared/') if '.apk' in i]\n",
    "apks[1] = [i[:-4] for i in os.listdir(tdir + 'compared/complement')]\n",
    "apks[2] = [i[:-4] for i in os.listdir(tdir + 'compared/complement1')]\n",
    "for i in range(3):\n",
    "    for j in apks[i]:\n",
    "        f.write(j + '\\n')\n",
    "f.close()"
   ]
  },
  {
   "cell_type": "code",
   "execution_count": 30,
   "metadata": {
    "collapsed": false
   },
   "outputs": [
    {
     "data": {
      "text/plain": [
       "91"
      ]
     },
     "execution_count": 30,
     "metadata": {},
     "output_type": "execute_result"
    }
   ],
   "source": [
    "all = []\n",
    "for i in range(3):\n",
    "    all.extend(apks[i])\n",
    "len(all)"
   ]
  },
  {
   "cell_type": "code",
   "execution_count": 34,
   "metadata": {
    "collapsed": false
   },
   "outputs": [],
   "source": [
    "f_puma = open('source/puma_test_compare.txt', 'r')\n",
    "fail = []\n",
    "for line in f_puma:\n",
    "    eles = line.split(',')\n",
    "    if len(eles) < 2:\n",
    "        continue\n",
    "    \n",
    "    if eles[0] in all:\n",
    "        if eles[1].strip() == '1':\n",
    "            #print(eles[0], eles[1])\n",
    "            pass\n",
    "        else:\n",
    "            fail.append(eles[0])\n",
    "        \n",
    "f_puma.close()"
   ]
  },
  {
   "cell_type": "code",
   "execution_count": 36,
   "metadata": {
    "collapsed": false
   },
   "outputs": [],
   "source": [
    "f = open('source/puma_recheck.txt', 'w+')\n",
    "for i in fail:\n",
    "    f.write(i + '\\n')\n",
    "f.close()"
   ]
  },
  {
   "cell_type": "code",
   "execution_count": null,
   "metadata": {
    "collapsed": true
   },
   "outputs": [],
   "source": []
  }
 ],
 "metadata": {
  "anaconda-cloud": {},
  "kernelspec": {
   "display_name": "Python [conda root]",
   "language": "python",
   "name": "conda-root-py"
  },
  "language_info": {
   "codemirror_mode": {
    "name": "ipython",
    "version": 3
   },
   "file_extension": ".py",
   "mimetype": "text/x-python",
   "name": "python",
   "nbconvert_exporter": "python",
   "pygments_lexer": "ipython3",
   "version": "3.5.2"
  }
 },
 "nbformat": 4,
 "nbformat_minor": 1
}
